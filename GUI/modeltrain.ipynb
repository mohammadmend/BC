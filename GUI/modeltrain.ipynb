{
 "cells": [
  {
   "cell_type": "code",
   "execution_count": null,
   "metadata": {},
   "outputs": [],
   "source": [
    "import tensorflow as tf\n",
    "from ucimlrepo import fetch_ucirepo \n",
    "import pandas as pd\n",
    "import numpy as np\n",
    "import matplotlib.pyplot as plt\n",
    "import seaborn as sns\n",
    "from sklearn.model_selection import train_test_split\n",
    "from sklearn.preprocessing import StandardScaler\n",
    "from sklearn.linear_model import LogisticRegression\n",
    "from sklearn.metrics import accuracy_score, classification_report\n",
    "\n",
    "# fetch dataset \n",
    "breast_cancer_wisconsin_diagnostic = fetch_ucirepo(id=17) \n",
    "  \n",
    "# data (as pandas dataframes) \n",
    "X = breast_cancer_wisconsin_diagnostic.data.features \n",
    "y = breast_cancer_wisconsin_diagnostic.data.targets "
   ]
  },
  {
   "cell_type": "code",
   "execution_count": 3,
   "metadata": {},
   "outputs": [],
   "source": [
    "import pandas as pd\n",
    "\n",
    "# Data preprocessing\n",
    "data=pd.concat([X,y],axis=1)\n",
    "# if Malignant(M):1, if benign(B):0\n",
    "data['Diagnosis']=data['Diagnosis'].apply(lambda val: 1 if val == 'M' else 0)\n",
    "# Remove highly correlated features\n",
    "correlation_mat = data.corr()\n",
    "#correlation threshold\n",
    "threshold = 0.95 #setting to 0.95\n",
    "\n",
    "highly_correlated = correlation_mat[abs(correlation_mat) > threshold]\n",
    "highly_correlated = highly_correlated[highly_correlated != 1].stack().index.tolist()\n",
    "\n",
    "# which ones to remove\n",
    "remove = set()\n",
    "for (feature1, feature2) in highly_correlated:\n",
    "    remove.add(feature1 if correlation_mat.loc[feature1, feature2] > 0 else feature2)\n",
    "\n",
    "# drop highly correlated features from the dataframe\n",
    "data = data.drop(remove, axis=1)\n"
   ]
  },
  {
   "cell_type": "code",
   "execution_count": 4,
   "metadata": {},
   "outputs": [
    {
     "name": "stdout",
     "output_type": "stream",
     "text": [
      "Train model on 505 examples\n",
      "Model trained in 0:00:00.018072\n",
      "Train model on 505 examples\n",
      "Model trained in 0:00:00.018618\n",
      "Train model on 506 examples\n",
      "Model trained in 0:00:00.016801\n",
      "Train model on 506 examples\n",
      "Model trained in 0:00:00.015976\n",
      "Train model on 506 examples\n",
      "Model trained in 0:00:00.015143\n",
      "Train model on 506 examples\n",
      "Model trained in 0:00:00.015125\n",
      "Train model on 506 examples\n",
      "Model trained in 0:00:00.014291\n",
      "Train model on 506 examples\n",
      "Model trained in 0:00:00.012946\n",
      "Train model on 506 examples\n",
      "Model trained in 0:00:00.015452\n"
     ]
    }
   ],
   "source": [
    "import ydf\n",
    "from sklearn.model_selection import KFold\n",
    "import numpy as np\n",
    "kf=KFold(n_splits=9,shuffle=True, random_state=50)\n",
    "mod=[]\n",
    "eval=[]\n",
    "for traI, testI in kf.split(data):\n",
    "    train=data.iloc[traI]\n",
    "    test=data.iloc[testI]\n",
    "    model = ydf.RandomForestLearner(label='Diagnosis', num_trees=10,max_depth=5).train(train)\n",
    "    mod.append(model)\n",
    "    evaluation=model.evaluate(test)\n",
    "    eval.append(evaluation.accuracy)\n",
    "index=np.argmax(eval)\n",
    "mo=mod[index]\n",
    "mo.save(\"model\")"
   ]
  }
 ],
 "metadata": {
  "kernelspec": {
   "display_name": "finalprj",
   "language": "python",
   "name": "python3"
  },
  "language_info": {
   "codemirror_mode": {
    "name": "ipython",
    "version": 3
   },
   "file_extension": ".py",
   "mimetype": "text/x-python",
   "name": "python",
   "nbconvert_exporter": "python",
   "pygments_lexer": "ipython3",
   "version": "3.9.19"
  }
 },
 "nbformat": 4,
 "nbformat_minor": 2
}
